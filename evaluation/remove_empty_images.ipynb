{
 "cells": [
  {
   "cell_type": "code",
   "execution_count": 2,
   "id": "f9caf791-2224-4138-8899-51a3c004948f",
   "metadata": {},
   "outputs": [],
   "source": [
    "import os\n",
    "import glob"
   ]
  },
  {
   "cell_type": "code",
   "execution_count": 5,
   "id": "3d3ea08a-ee52-4c65-82fd-abde84764562",
   "metadata": {},
   "outputs": [],
   "source": [
    "files = glob.glob(\"gt_images/*/*\")\n",
    "\n",
    "for file in files:\n",
    "    if os.path.getsize(file) < 1 * 1024:\n",
    "      os.remove(file)"
   ]
  },
  {
   "cell_type": "code",
   "execution_count": null,
   "id": "a19767b5-814e-480b-93af-6ac9b921590e",
   "metadata": {},
   "outputs": [],
   "source": [
    "files = glob.glob(\"images/*/*\")\n",
    "\n",
    "for file in files:\n",
    "    if os.path.getsize(file) < 1 * 1024:\n",
    "      os.remove(file)"
   ]
  }
 ],
 "metadata": {
  "kernelspec": {
   "display_name": "Python 3 (ipykernel)",
   "language": "python",
   "name": "python3"
  },
  "language_info": {
   "codemirror_mode": {
    "name": "ipython",
    "version": 3
   },
   "file_extension": ".py",
   "mimetype": "text/x-python",
   "name": "python",
   "nbconvert_exporter": "python",
   "pygments_lexer": "ipython3",
   "version": "3.8.20"
  }
 },
 "nbformat": 4,
 "nbformat_minor": 5
}
